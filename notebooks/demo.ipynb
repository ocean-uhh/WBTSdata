{
 "cells": [
  {
   "cell_type": "markdown",
   "metadata": {},
   "source": [
    "## Import all necessary packages"
   ]
  },
  {
   "cell_type": "code",
   "execution_count": null,
   "metadata": {},
   "outputs": [],
   "source": [
    "import numpy as np\n",
    "import pandas as pd\n",
    "import os\n",
    "import xarray as xr\n",
    "import matplotlib.pyplot as plt\n",
    "import importlib\n",
    "import yaml\n",
    "import glob\n",
    "import sys\n",
    "#sys.path.append(os.path.abspath('').split('notebooks')[0])\n",
    "from WBTSdata import plotters, tools, merge_datasets, config\n"
   ]
  },
  {
   "cell_type": "markdown",
   "metadata": {},
   "source": "Note: This assumes you have already installed the package using\n``` \npip install -e .\n```\n\n## Demo Configuration\n\nThis demo notebook processes only the first 3 years of data (2001-2003) for demonstration purposes. This prevents memory issues when loading all 27 years of data simultaneously.\n\nFor processing the full dataset, use:\n```python\nds_all = merge_datasets.merge_years(output_dir)  # Process all files\n```"
  },
  {
   "cell_type": "markdown",
   "metadata": {},
   "source": [
    "## Load the merged file\n",
    "\n",
    "Loads the file created by running the script `load_data.ipynb`"
   ]
  },
  {
   "cell_type": "code",
   "execution_count": null,
   "metadata": {},
   "outputs": [],
   "source": [
    "### import basepath from mission_config.yaml\n",
    "config = tools.get_config()\n",
    "input_dir = config['input_dir']\n",
    "output_dir = config['output_dir']\n",
    "print('Input directory: ',input_dir ,'\\nOutput directory: ',output_dir)\n"
   ]
  },
  {
   "cell_type": "code",
   "execution_count": null,
   "metadata": {},
   "outputs": [],
   "source": "ds_all = merge_datasets.merge_years(output_dir, max_files=3)"
  },
  {
   "cell_type": "code",
   "execution_count": null,
   "metadata": {},
   "outputs": [],
   "source": [
    "ds_all"
   ]
  },
  {
   "cell_type": "code",
   "execution_count": null,
   "metadata": {},
   "outputs": [],
   "source": [
    "ds_all.to_netcdf(output_dir+'/Merged/'+'WBTS_all_years_CTD_LADCP.nc')"
   ]
  },
  {
   "cell_type": "markdown",
   "metadata": {},
   "source": [
    "## Plot the stations of the whole time series for different longitudes"
   ]
  },
  {
   "cell_type": "code",
   "execution_count": null,
   "metadata": {},
   "outputs": [],
   "source": [
    "# Example usage\n",
    "fig, ax = plotters.plot_cast_over_time(ds_all)\n",
    "plt.show()"
   ]
  },
  {
   "cell_type": "code",
   "execution_count": null,
   "metadata": {},
   "outputs": [],
   "source": []
  }
 ],
 "metadata": {
  "kernelspec": {
   "display_name": "venv (3.11.7)",
   "language": "python",
   "name": "python3"
  },
  "language_info": {
   "codemirror_mode": {
    "name": "ipython",
    "version": 3
   },
   "file_extension": ".py",
   "mimetype": "text/x-python",
   "name": "python",
   "nbconvert_exporter": "python",
   "pygments_lexer": "ipython3",
   "version": "3.11.7"
  }
 },
 "nbformat": 4,
 "nbformat_minor": 2
}